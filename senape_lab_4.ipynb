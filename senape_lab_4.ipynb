{
  "nbformat": 4,
  "nbformat_minor": 0,
  "metadata": {
    "colab": {
      "provenance": [],
      "authorship_tag": "ABX9TyM68Ovx3fK8gSEqbu3V0LGF",
      "include_colab_link": true
    },
    "kernelspec": {
      "name": "python3",
      "display_name": "Python 3"
    },
    "language_info": {
      "name": "python"
    }
  },
  "cells": [
    {
      "cell_type": "markdown",
      "metadata": {
        "id": "view-in-github",
        "colab_type": "text"
      },
      "source": [
        "<a href=\"https://colab.research.google.com/github/mikesenape/labs-4-9/blob/main/senape_lab_4.ipynb\" target=\"_parent\"><img src=\"https://colab.research.google.com/assets/colab-badge.svg\" alt=\"Open In Colab\"/></a>"
      ]
    },
    {
      "cell_type": "code",
      "execution_count": 1,
      "metadata": {
        "id": "nxRm15womrS_"
      },
      "outputs": [],
      "source": [
        "#Stats notebook Lab 4"
      ]
    },
    {
      "cell_type": "code",
      "source": [],
      "metadata": {
        "id": "OBL_bRQUo7MQ"
      },
      "execution_count": 1,
      "outputs": []
    },
    {
      "cell_type": "markdown",
      "source": [
        "#Stats notebook Lab 4"
      ],
      "metadata": {
        "id": "C_KyhP9wnCO6"
      }
    },
    {
      "cell_type": "code",
      "source": [
        "import numpy as np"
      ],
      "metadata": {
        "id": "NNd2g-zWnAjN"
      },
      "execution_count": 2,
      "outputs": []
    },
    {
      "cell_type": "code",
      "source": [
        "import matplotlib.pyplot as plt"
      ],
      "metadata": {
        "id": "Ge1s5OLBnMK-"
      },
      "execution_count": 3,
      "outputs": []
    },
    {
      "cell_type": "markdown",
      "source": [
        "import basic codes as nicknames to insert easier"
      ],
      "metadata": {
        "id": "eakIv9fRhVjo"
      }
    },
    {
      "cell_type": "code",
      "source": [
        "x= np.array([1,2,3])"
      ],
      "metadata": {
        "id": "LN6AbO2GnS58"
      },
      "execution_count": 4,
      "outputs": []
    },
    {
      "cell_type": "markdown",
      "source": [
        "insert a array"
      ],
      "metadata": {
        "id": "_Tffggf0hfkH"
      }
    },
    {
      "cell_type": "code",
      "source": [
        "# population"
      ],
      "metadata": {
        "id": "D2UC5XHgnYVT"
      },
      "execution_count": 5,
      "outputs": []
    },
    {
      "cell_type": "code",
      "source": [
        "np.sum(x)"
      ],
      "metadata": {
        "colab": {
          "base_uri": "https://localhost:8080/"
        },
        "id": "WNX8Qni_nanx",
        "outputId": "a17a4a6b-4a44-48e8-df08-a1ce132f7acc"
      },
      "execution_count": 6,
      "outputs": [
        {
          "output_type": "execute_result",
          "data": {
            "text/plain": [
              "6"
            ]
          },
          "metadata": {},
          "execution_count": 6
        }
      ]
    },
    {
      "cell_type": "markdown",
      "source": [
        "insert np.sum to find the rounded number"
      ],
      "metadata": {
        "id": "T8RJIHdUhs0W"
      }
    },
    {
      "cell_type": "code",
      "source": [
        "x.shape[0]"
      ],
      "metadata": {
        "colab": {
          "base_uri": "https://localhost:8080/"
        },
        "id": "yUF8TFP1ndF1",
        "outputId": "cfb0dcc9-76da-4229-d859-fbde2eadf885"
      },
      "execution_count": 7,
      "outputs": [
        {
          "output_type": "execute_result",
          "data": {
            "text/plain": [
              "3"
            ]
          },
          "metadata": {},
          "execution_count": 7
        }
      ]
    },
    {
      "cell_type": "markdown",
      "source": [
        "insert x.shape to find the shape at 0"
      ],
      "metadata": {
        "id": "0DnKLplihxBu"
      }
    },
    {
      "cell_type": "code",
      "source": [
        "def mean(x):\n",
        "    return np.sum(x)/x.shape[0]"
      ],
      "metadata": {
        "id": "0wU_YyY-ng2X"
      },
      "execution_count": 8,
      "outputs": []
    },
    {
      "cell_type": "markdown",
      "source": [
        "define the mean of x as np.sum divided by x.shape(0)"
      ],
      "metadata": {
        "id": "EqaMs2JQh2hW"
      }
    },
    {
      "cell_type": "code",
      "source": [
        "def var(x):\n",
        "    return mean((x - mean(x))**2)"
      ],
      "metadata": {
        "id": "K9zzYjkcnowk"
      },
      "execution_count": 9,
      "outputs": []
    },
    {
      "cell_type": "markdown",
      "source": [
        "we then define the variable (x) as mean((x-mean))**2)\n"
      ],
      "metadata": {
        "id": "oGkNe9akh8OQ"
      }
    },
    {
      "cell_type": "code",
      "source": [
        "def std(x):\n",
        "    return np.sqrt(var(x))"
      ],
      "metadata": {
        "id": "JlFlHkxjnsSe"
      },
      "execution_count": 10,
      "outputs": []
    },
    {
      "cell_type": "markdown",
      "source": [
        "define std(x) as np.sqrt(var(x))"
      ],
      "metadata": {
        "id": "2rKizlaLiFjK"
      }
    },
    {
      "cell_type": "code",
      "source": [
        "mean(x)"
      ],
      "metadata": {
        "colab": {
          "base_uri": "https://localhost:8080/"
        },
        "id": "c8lAC-pFnvDe",
        "outputId": "9cbfd8b9-f730-4fa9-e140-abbe70151b21"
      },
      "execution_count": 11,
      "outputs": [
        {
          "output_type": "execute_result",
          "data": {
            "text/plain": [
              "2.0"
            ]
          },
          "metadata": {},
          "execution_count": 11
        }
      ]
    },
    {
      "cell_type": "markdown",
      "source": [
        "insert mena(x) to find the mean \n"
      ],
      "metadata": {
        "id": "YrAvebY_iLCh"
      }
    },
    {
      "cell_type": "code",
      "source": [
        "var(x)"
      ],
      "metadata": {
        "colab": {
          "base_uri": "https://localhost:8080/"
        },
        "id": "ZbtPMC6Unxgl",
        "outputId": "d0c906b8-1eff-4f41-e493-97fce87e1a94"
      },
      "execution_count": 12,
      "outputs": [
        {
          "output_type": "execute_result",
          "data": {
            "text/plain": [
              "0.6666666666666666"
            ]
          },
          "metadata": {},
          "execution_count": 12
        }
      ]
    },
    {
      "cell_type": "markdown",
      "source": [
        "insert var(x) to find the answer"
      ],
      "metadata": {
        "id": "IG20lfOliXyt"
      }
    },
    {
      "cell_type": "code",
      "source": [
        "std(x)"
      ],
      "metadata": {
        "colab": {
          "base_uri": "https://localhost:8080/"
        },
        "id": "DGq7vklUn0Oz",
        "outputId": "0417558f-728b-49bb-ecf2-b4b8daba7d15"
      },
      "execution_count": 13,
      "outputs": [
        {
          "output_type": "execute_result",
          "data": {
            "text/plain": [
              "0.816496580927726"
            ]
          },
          "metadata": {},
          "execution_count": 13
        }
      ]
    },
    {
      "cell_type": "markdown",
      "source": [
        "insert std(x) to find the answer"
      ],
      "metadata": {
        "id": "o-5OYZc5icTA"
      }
    },
    {
      "cell_type": "code",
      "source": [],
      "metadata": {
        "id": "ySXGn7NPn2Hv"
      },
      "execution_count": 13,
      "outputs": []
    },
    {
      "cell_type": "markdown",
      "source": [
        "#Random Number Generator"
      ],
      "metadata": {
        "id": "VRpzXorUn6Fp"
      }
    },
    {
      "cell_type": "code",
      "source": [
        "m = 75                 # multiplier\n",
        "b = 74                 # increment\n",
        "n = 65537              # modulus "
      ],
      "metadata": {
        "id": "DGcW4mBUoBn8"
      },
      "execution_count": 14,
      "outputs": []
    },
    {
      "cell_type": "markdown",
      "source": [
        "set up values for m,b aand n"
      ],
      "metadata": {
        "id": "7WClo6pcijDe"
      }
    },
    {
      "cell_type": "code",
      "source": [
        "x = 123456      # seed value"
      ],
      "metadata": {
        "id": "q2LxTR2ZoEj3"
      },
      "execution_count": 15,
      "outputs": []
    },
    {
      "cell_type": "markdown",
      "source": [
        "inserted x's seed value as 123456"
      ],
      "metadata": {
        "id": "kTdyNiaRivOc"
      }
    },
    {
      "cell_type": "code",
      "source": [
        "X = np.zeros(50000,)"
      ],
      "metadata": {
        "id": "uGi_tbfVoG8u"
      },
      "execution_count": 16,
      "outputs": []
    },
    {
      "cell_type": "markdown",
      "source": [
        "used x to = np.zeros of (50000,)"
      ],
      "metadata": {
        "id": "INrSt4VOi4sk"
      }
    },
    {
      "cell_type": "code",
      "source": [
        "x = (m * x + b) % n"
      ],
      "metadata": {
        "id": "7T7p3MUfoJEt"
      },
      "execution_count": 17,
      "outputs": []
    },
    {
      "cell_type": "markdown",
      "source": [
        "made a eqation"
      ],
      "metadata": {
        "id": "GQBGEnhGjByO"
      }
    },
    {
      "cell_type": "code",
      "source": [
        "for i in range(X.shape[0]):\n",
        "\n",
        "    x = (m * x + b) % n\n",
        "    \n",
        "    X[i] = x\n",
        "\n",
        "X /= np.max(X)"
      ],
      "metadata": {
        "id": "4zF5eNY4oLqA"
      },
      "execution_count": 18,
      "outputs": []
    },
    {
      "cell_type": "markdown",
      "source": [
        "use i to fidn the range the shape of x using the equation we made earlier"
      ],
      "metadata": {
        "id": "9uMizVAljHXf"
      }
    },
    {
      "cell_type": "code",
      "source": [
        "plt.plot(X[:100],'.')"
      ],
      "metadata": {
        "colab": {
          "base_uri": "https://localhost:8080/",
          "height": 283
        },
        "id": "KNXM8RhNoPIV",
        "outputId": "2be8edbe-8d23-4c6a-84e6-a3fdad98c51b"
      },
      "execution_count": 19,
      "outputs": [
        {
          "output_type": "execute_result",
          "data": {
            "text/plain": [
              "[<matplotlib.lines.Line2D at 0x7fab4939cee0>]"
            ]
          },
          "metadata": {},
          "execution_count": 19
        },
        {
          "output_type": "display_data",
          "data": {
            "text/plain": [
              "<Figure size 432x288 with 1 Axes>"
            ],
            "image/png": "[encoded data removed]"
          },
          "metadata": {
            "needs_background": "light"
          }
        }
      ]
    },
    {
      "cell_type": "markdown",
      "source": [
        "insert a scatter plot to show the variety of the data\n"
      ],
      "metadata": {
        "id": "g-Oo8-y6jX51"
      }
    },
    {
      "cell_type": "code",
      "source": [
        "plt.hist(X);"
      ],
      "metadata": {
        "colab": {
          "base_uri": "https://localhost:8080/",
          "height": 265
        },
        "id": "jRudmxHkoR2m",
        "outputId": "70b7eb9e-a301-455c-abac-3fbe366a8e80"
      },
      "execution_count": 20,
      "outputs": [
        {
          "output_type": "display_data",
          "data": {
            "text/plain": [
              "<Figure size 432x288 with 1 Axes>"
            ],
            "image/png": "[encoded data removed]"
          },
          "metadata": {
            "needs_background": "light"
          }
        }
      ]
    },
    {
      "cell_type": "markdown",
      "source": [
        "USE A HISTOGRAM TO SHOW A VIEW OF LINES FILLED IN\n"
      ],
      "metadata": {
        "id": "yycab_tkjdSM"
      }
    },
    {
      "cell_type": "code",
      "source": [
        "plt.hist(X,100);"
      ],
      "metadata": {
        "colab": {
          "base_uri": "https://localhost:8080/",
          "height": 265
        },
        "id": "opylHzP_ochm",
        "outputId": "a9f46063-c18d-49fb-acf3-6b79bd1fb989"
      },
      "execution_count": 21,
      "outputs": [
        {
          "output_type": "display_data",
          "data": {
            "text/plain": [
              "<Figure size 432x288 with 1 Axes>"
            ],
            "image/png": "[encoded data removed]"
          },
          "metadata": {
            "needs_background": "light"
          }
        }
      ]
    },
    {
      "cell_type": "markdown",
      "source": [
        "insert 100 to change the graph"
      ],
      "metadata": {
        "id": "PvS85O_ijk7a"
      }
    },
    {
      "cell_type": "code",
      "source": [
        "X"
      ],
      "metadata": {
        "colab": {
          "base_uri": "https://localhost:8080/"
        },
        "id": "sxxvv72holCV",
        "outputId": "508d0808-d2dd-4457-952e-c5aabc95f018"
      },
      "execution_count": 22,
      "outputs": [
        {
          "output_type": "execute_result",
          "data": {
            "text/plain": [
              "array([0.23761349, 0.82162203, 0.62092012, ..., 0.97434958, 0.07512016,\n",
              "       0.63498894])"
            ]
          },
          "metadata": {},
          "execution_count": 22
        }
      ]
    },
    {
      "cell_type": "code",
      "source": [
        "X"
      ],
      "metadata": {
        "colab": {
          "base_uri": "https://localhost:8080/"
        },
        "id": "aA-eGSzuon0P",
        "outputId": "40dcbf33-2aae-448e-dad4-7a8ded0bb2a5"
      },
      "execution_count": 23,
      "outputs": [
        {
          "output_type": "execute_result",
          "data": {
            "text/plain": [
              "array([0.23761349, 0.82162203, 0.62092012, ..., 0.97434958, 0.07512016,\n",
              "       0.63498894])"
            ]
          },
          "metadata": {},
          "execution_count": 23
        }
      ]
    },
    {
      "cell_type": "markdown",
      "source": [
        "insert x to show the array of numbers"
      ],
      "metadata": {
        "id": "TB9KdjDNjrbr"
      }
    },
    {
      "cell_type": "markdown",
      "source": [
        "#Random Number Generator"
      ],
      "metadata": {
        "id": "wSOVEunyorn6"
      }
    },
    {
      "cell_type": "code",
      "source": [
        "X=np.random.random(50000,)"
      ],
      "metadata": {
        "id": "WV2BVGKTouik"
      },
      "execution_count": 24,
      "outputs": []
    },
    {
      "cell_type": "markdown",
      "source": [
        "give x the value of random numbers through 50000"
      ],
      "metadata": {
        "id": "-yUSyNcbjzrb"
      }
    },
    {
      "cell_type": "code",
      "source": [
        "plt.hist(100);"
      ],
      "metadata": {
        "colab": {
          "base_uri": "https://localhost:8080/",
          "height": 265
        },
        "id": "G9RrXPoKo0X1",
        "outputId": "8b944d0a-e0b1-44a9-d90e-fe8a7ea0d69f"
      },
      "execution_count": 25,
      "outputs": [
        {
          "output_type": "display_data",
          "data": {
            "text/plain": [
              "<Figure size 432x288 with 1 Axes>"
            ],
            "image/png": "[encoded data removed]"
          },
          "metadata": {
            "needs_background": "light"
          }
        }
      ]
    },
    {
      "cell_type": "markdown",
      "source": [
        "insert the histogram to show random numbers through 100"
      ],
      "metadata": {
        "id": "zuI-xFxikDpT"
      }
    },
    {
      "cell_type": "code",
      "source": [
        "np.random.random()"
      ],
      "metadata": {
        "colab": {
          "base_uri": "https://localhost:8080/"
        },
        "id": "jxtukUy9o70H",
        "outputId": "92446e55-6098-49dc-d924-077f4fbb4c73"
      },
      "execution_count": 26,
      "outputs": [
        {
          "output_type": "execute_result",
          "data": {
            "text/plain": [
              "0.5354457841914765"
            ]
          },
          "metadata": {},
          "execution_count": 26
        }
      ]
    },
    {
      "cell_type": "markdown",
      "source": [
        "use np random to show us a random number"
      ],
      "metadata": {
        "id": "6n0x5BpJkKj0"
      }
    },
    {
      "cell_type": "code",
      "source": [
        "r=np.random.random()"
      ],
      "metadata": {
        "id": "5igNrpSjo_Gk"
      },
      "execution_count": 27,
      "outputs": []
    },
    {
      "cell_type": "markdown",
      "source": [
        "give r the value of random"
      ],
      "metadata": {
        "id": "8hr0X0a3kV_U"
      }
    },
    {
      "cell_type": "code",
      "source": [
        "r"
      ],
      "metadata": {
        "colab": {
          "base_uri": "https://localhost:8080/"
        },
        "id": "T50Bpp0epG2r",
        "outputId": "816d7829-6372-4c8b-f829-49bcd59302da"
      },
      "execution_count": 28,
      "outputs": [
        {
          "output_type": "execute_result",
          "data": {
            "text/plain": [
              "0.005460058310597593"
            ]
          },
          "metadata": {},
          "execution_count": 28
        }
      ]
    },
    {
      "cell_type": "code",
      "source": [
        "r = np.random.randint(1,10)"
      ],
      "metadata": {
        "id": "C_xym5VwpIpv"
      },
      "execution_count": 29,
      "outputs": []
    },
    {
      "cell_type": "markdown",
      "source": [
        "give r a ange for random mnumbers for values 1-10"
      ],
      "metadata": {
        "id": "3SVQmb-MkiCQ"
      }
    },
    {
      "cell_type": "code",
      "source": [
        "r"
      ],
      "metadata": {
        "colab": {
          "base_uri": "https://localhost:8080/"
        },
        "id": "86V1MjbPpspY",
        "outputId": "017ee30c-c868-491f-be90-e34f9c8db7e8"
      },
      "execution_count": 30,
      "outputs": [
        {
          "output_type": "execute_result",
          "data": {
            "text/plain": [
              "4"
            ]
          },
          "metadata": {},
          "execution_count": 30
        }
      ]
    },
    {
      "cell_type": "code",
      "source": [
        "r = np.random.randint(1,10,size=(10,2))"
      ],
      "metadata": {
        "id": "HwY9C16_puiM"
      },
      "execution_count": 31,
      "outputs": []
    },
    {
      "cell_type": "markdown",
      "source": [
        "insert size to the equation"
      ],
      "metadata": {
        "id": "zDsFpVdYkqX6"
      }
    },
    {
      "cell_type": "code",
      "source": [
        "r"
      ],
      "metadata": {
        "colab": {
          "base_uri": "https://localhost:8080/"
        },
        "id": "sVWSrGo5pxil",
        "outputId": "d4996210-2930-468d-8205-0a10d39bcab1"
      },
      "execution_count": 32,
      "outputs": [
        {
          "output_type": "execute_result",
          "data": {
            "text/plain": [
              "array([[1, 1],\n",
              "       [3, 6],\n",
              "       [3, 6],\n",
              "       [8, 7],\n",
              "       [1, 7],\n",
              "       [1, 3],\n",
              "       [2, 8],\n",
              "       [3, 9],\n",
              "       [5, 5],\n",
              "       [2, 7]])"
            ]
          },
          "metadata": {},
          "execution_count": 32
        }
      ]
    },
    {
      "cell_type": "markdown",
      "source": [
        "show the data"
      ],
      "metadata": {
        "id": "zhTyiwtZlduu"
      }
    },
    {
      "cell_type": "code",
      "source": [
        "import numpy as np"
      ],
      "metadata": {
        "id": "unpNnjvcpyC6"
      },
      "execution_count": 33,
      "outputs": []
    },
    {
      "cell_type": "code",
      "source": [
        "np.random.seed(12345)\n",
        "data = np.random.randn(2, 100)\n",
        "\n",
        "plt.figure(1, figsize=(9, 9))\n",
        "\n",
        "\n",
        "plt.subplot(2,2,1)\n",
        "plt.hist(data[0])\n",
        "\n",
        "plt.subplot(2,2,2)\n",
        "plt.scatter(data[0], data[1])\n",
        "\n",
        "plt.subplot(2,2,3)\n",
        "plt.plot(data[0], data[1])\n",
        "\n",
        "plt.subplot(2,2,4)\n",
        "plt.hist2d(data[0], data[1])\n",
        "\n",
        "plt.show()"
      ],
      "metadata": {
        "colab": {
          "base_uri": "https://localhost:8080/",
          "height": 537
        },
        "id": "Zer4v7Mrp1SS",
        "outputId": "e0c2526d-22ae-4326-d2e1-7982b68ff788"
      },
      "execution_count": 34,
      "outputs": [
        {
          "output_type": "display_data",
          "data": {
            "text/plain": [
              "<Figure size 648x648 with 4 Axes>"
            ],
            "image/png": "[encoded data removed]"
          },
          "metadata": {
            "needs_background": "light"
          }
        }
      ]
    },
    {
      "cell_type": "markdown",
      "source": [
        "insert four different plots to show how the random numbers come out"
      ],
      "metadata": {
        "id": "OAfDwP2nlhvD"
      }
    },
    {
      "cell_type": "code",
      "source": [
        "mu = 100  # mean of distribution\n",
        "sigma = 15  # standard deviation of distribution\n",
        "x = mu + sigma * np.random.randn(10000)"
      ],
      "metadata": {
        "id": "JDWYKjD4p4Ib"
      },
      "execution_count": 35,
      "outputs": []
    },
    {
      "cell_type": "markdown",
      "source": [
        "insert two different values to show the mean of distrubution and standard deviation of distrubution.\n",
        "inserted a equation to use for the values"
      ],
      "metadata": {
        "id": "zCQ6Q1Zblpt5"
      }
    },
    {
      "cell_type": "code",
      "source": [
        "n,bins,patches = plt.hist(x)"
      ],
      "metadata": {
        "colab": {
          "base_uri": "https://localhost:8080/",
          "height": 265
        },
        "id": "diSxPhTkqApK",
        "outputId": "1a24d6fd-8f98-45ac-ce96-68191d13c818"
      },
      "execution_count": 36,
      "outputs": [
        {
          "output_type": "display_data",
          "data": {
            "text/plain": [
              "<Figure size 432x288 with 1 Axes>"
            ],
            "image/png": "[encoded data removed]"
          },
          "metadata": {
            "needs_background": "light"
          }
        }
      ]
    },
    {
      "cell_type": "markdown",
      "source": [
        "inserted the histogram"
      ],
      "metadata": {
        "id": "IZzyYg7yl87x"
      }
    },
    {
      "cell_type": "code",
      "source": [
        "bins"
      ],
      "metadata": {
        "colab": {
          "base_uri": "https://localhost:8080/"
        },
        "id": "OgzweQmCqGal",
        "outputId": "5dcb474b-f619-4be7-bc09-246928ae15b3"
      },
      "execution_count": 37,
      "outputs": [
        {
          "output_type": "execute_result",
          "data": {
            "text/plain": [
              "array([ 43.81966184,  55.32898772,  66.83831359,  78.34763947,\n",
              "        89.85696535, 101.36629123, 112.8756171 , 124.38494298,\n",
              "       135.89426886, 147.40359473, 158.91292061])"
            ]
          },
          "metadata": {},
          "execution_count": 37
        }
      ]
    },
    {
      "cell_type": "markdown",
      "source": [
        "found the array for random numbers of arrays"
      ],
      "metadata": {
        "id": "mISFqjHDmAe1"
      }
    },
    {
      "cell_type": "code",
      "source": [
        "y = ((1 / (np.sqrt(2 * np.pi) * sigma)) * np.exp(-0.5 * (1 / sigma * (bins - mu))**2))\n",
        "plt.plot(y)"
      ],
      "metadata": {
        "colab": {
          "base_uri": "https://localhost:8080/",
          "height": 283
        },
        "id": "DsPD65IYqIX_",
        "outputId": "6290149f-feed-4fce-ec4c-1acbe3074a4b"
      },
      "execution_count": 38,
      "outputs": [
        {
          "output_type": "execute_result",
          "data": {
            "text/plain": [
              "[<matplotlib.lines.Line2D at 0x7fab48c00be0>]"
            ]
          },
          "metadata": {},
          "execution_count": 38
        },
        {
          "output_type": "display_data",
          "data": {
            "text/plain": [
              "<Figure size 432x288 with 1 Axes>"
            ],
            "image/png": "[encoded data removed]"
          },
          "metadata": {
            "needs_background": "light"
          }
        }
      ]
    },
    {
      "cell_type": "markdown",
      "source": [
        "insert line plot to illustrate the equation"
      ],
      "metadata": {
        "id": "rp9XioVvmY54"
      }
    },
    {
      "cell_type": "code",
      "source": [
        "num_bins = 50\n",
        "n,bins,patches = plt.hist(x, num_bins, density=1)\n",
        "y = ((1 / (np.sqrt(2 * np.pi) * sigma)) * np.exp(-0.5 * (1 / sigma * (bins - mu))**2))\n",
        "plt.plot(bins,y)"
      ],
      "metadata": {
        "colab": {
          "base_uri": "https://localhost:8080/",
          "height": 283
        },
        "id": "52UDp26dqL0e",
        "outputId": "1816542d-47c8-4335-fd0e-2596e3690899"
      },
      "execution_count": 39,
      "outputs": [
        {
          "output_type": "execute_result",
          "data": {
            "text/plain": [
              "[<matplotlib.lines.Line2D at 0x7fab48b394f0>]"
            ]
          },
          "metadata": {},
          "execution_count": 39
        },
        {
          "output_type": "display_data",
          "data": {
            "text/plain": [
              "<Figure size 432x288 with 1 Axes>"
            ],
            "image/png": "[encoded data removed]"
          },
          "metadata": {
            "needs_background": "light"
          }
        }
      ]
    },
    {
      "cell_type": "markdown",
      "source": [
        "insert the numbers of bins and a equation for y to track the random numbers outcome"
      ],
      "metadata": {
        "id": "-2KIpZ7hmdkE"
      }
    },
    {
      "cell_type": "code",
      "source": [
        "def mean(x):\n",
        "    return np.sum(x)/x.shape[0]"
      ],
      "metadata": {
        "id": "maRa6QobqObK"
      },
      "execution_count": 40,
      "outputs": []
    },
    {
      "cell_type": "markdown",
      "source": [
        "defined the mean"
      ],
      "metadata": {
        "id": "TmkKfn5MmlmG"
      }
    },
    {
      "cell_type": "code",
      "source": [
        "def var(x):\n",
        "    return mean((x - mean(x))**2)"
      ],
      "metadata": {
        "id": "E6dc9HDnqug8"
      },
      "execution_count": 41,
      "outputs": []
    },
    {
      "cell_type": "markdown",
      "source": [
        "defeined var"
      ],
      "metadata": {
        "id": "IfXZ0Ahsmo29"
      }
    },
    {
      "cell_type": "code",
      "source": [
        "def std(x):\n",
        "    return np.sqrt(var(x))"
      ],
      "metadata": {
        "id": "LSKANPoqqu7t"
      },
      "execution_count": 42,
      "outputs": []
    },
    {
      "cell_type": "markdown",
      "source": [
        "defined std"
      ],
      "metadata": {
        "id": "tKhCwdrJmqYU"
      }
    },
    {
      "cell_type": "code",
      "source": [
        "mean(x)"
      ],
      "metadata": {
        "colab": {
          "base_uri": "https://localhost:8080/"
        },
        "id": "KzfT_t0Wqu-o",
        "outputId": "8ddd3e8c-71d3-49c3-d51e-09772df43b93"
      },
      "execution_count": 43,
      "outputs": [
        {
          "output_type": "execute_result",
          "data": {
            "text/plain": [
              "99.78475345251351"
            ]
          },
          "metadata": {},
          "execution_count": 43
        }
      ]
    },
    {
      "cell_type": "code",
      "source": [
        "std(x)"
      ],
      "metadata": {
        "colab": {
          "base_uri": "https://localhost:8080/"
        },
        "id": "CdA6y94HqvBg",
        "outputId": "197f4ef0-b4d6-4ad7-8544-1a07bdf2f566"
      },
      "execution_count": 44,
      "outputs": [
        {
          "output_type": "execute_result",
          "data": {
            "text/plain": [
              "14.967403929980673"
            ]
          },
          "metadata": {},
          "execution_count": 44
        }
      ]
    },
    {
      "cell_type": "markdown",
      "source": [
        "illustrated the defined values"
      ],
      "metadata": {
        "id": "JyJUog9bmseH"
      }
    },
    {
      "cell_type": "code",
      "source": [
        "# Normal Random Number Generator"
      ],
      "metadata": {
        "id": "m7eaiCtJq4zW"
      },
      "execution_count": 45,
      "outputs": []
    },
    {
      "cell_type": "markdown",
      "source": [
        "# Normal Random Number Generator"
      ],
      "metadata": {
        "id": "yXBPXUojrANj"
      }
    },
    {
      "cell_type": "code",
      "source": [
        "x = np.random.rand(1000,)-1"
      ],
      "metadata": {
        "id": "-P0PxT1mq_F2"
      },
      "execution_count": 46,
      "outputs": []
    },
    {
      "cell_type": "markdown",
      "source": [
        "new eaquation for random number generator"
      ],
      "metadata": {
        "id": "tKbUye0Qmv45"
      }
    },
    {
      "cell_type": "code",
      "source": [
        "plt.hist(x**2);"
      ],
      "metadata": {
        "colab": {
          "base_uri": "https://localhost:8080/",
          "height": 269
        },
        "id": "wtE3fjmApCdk",
        "outputId": "3e8ae166-090a-4cd1-97a6-04b2cdfb6db1"
      },
      "execution_count": 47,
      "outputs": [
        {
          "output_type": "display_data",
          "data": {
            "text/plain": [
              "<Figure size 432x288 with 1 Axes>"
            ],
            "image/png": "[encoded data removed]"
          },
          "metadata": {
            "needs_background": "light"
          }
        }
      ]
    },
    {
      "cell_type": "markdown",
      "source": [
        "manipulated the random number generator by x**2"
      ],
      "metadata": {
        "id": "cY8JnNlLmzr7"
      }
    },
    {
      "cell_type": "code",
      "source": [
        "plt.plot(bins,y)"
      ],
      "metadata": {
        "colab": {
          "base_uri": "https://localhost:8080/",
          "height": 283
        },
        "id": "fMtfmFqSpOcO",
        "outputId": "f831db3a-5644-46ea-ef6f-c5bd13773012"
      },
      "execution_count": 48,
      "outputs": [
        {
          "output_type": "execute_result",
          "data": {
            "text/plain": [
              "[<matplotlib.lines.Line2D at 0x7fab48e94820>]"
            ]
          },
          "metadata": {},
          "execution_count": 48
        },
        {
          "output_type": "display_data",
          "data": {
            "text/plain": [
              "<Figure size 432x288 with 1 Axes>"
            ],
            "image/png": "[encoded data removed]"
          },
          "metadata": {
            "needs_background": "light"
          }
        }
      ]
    },
    {
      "cell_type": "markdown",
      "source": [
        "inserted bins,y to plot the data"
      ],
      "metadata": {
        "id": "2S7wNN61m-bS"
      }
    },
    {
      "cell_type": "code",
      "source": [
        "a$e^-x**2$"
      ],
      "metadata": {
        "colab": {
          "base_uri": "https://localhost:8080/",
          "height": 133
        },
        "id": "YUP_hKMMqTYL",
        "outputId": "7671d4cf-e055-4272-f50b-21430de02a8b"
      },
      "execution_count": 50,
      "outputs": [
        {
          "output_type": "error",
          "ename": "SyntaxError",
          "evalue": "ignored",
          "traceback": [
            "\u001b[0;36m  File \u001b[0;32m\"<ipython-input-50-3dad8f29cadd>\"\u001b[0;36m, line \u001b[0;32m1\u001b[0m\n\u001b[0;31m    a$e^-x**2$\u001b[0m\n\u001b[0m     ^\u001b[0m\n\u001b[0;31mSyntaxError\u001b[0m\u001b[0;31m:\u001b[0m invalid syntax\n"
          ]
        }
      ]
    },
    {
      "cell_type": "code",
      "source": [
        "x=np.linspace(-10,10,100)\n",
        "y=np.exp(-x**2)\n",
        "plt.plot(x,y)"
      ],
      "metadata": {
        "id": "qmk0uRIhqlsM",
        "colab": {
          "base_uri": "https://localhost:8080/",
          "height": 283
        },
        "outputId": "a62aba69-9978-4119-996b-1a081892cdcf"
      },
      "execution_count": 52,
      "outputs": [
        {
          "output_type": "execute_result",
          "data": {
            "text/plain": [
              "[<matplotlib.lines.Line2D at 0x7fab4796d040>]"
            ]
          },
          "metadata": {},
          "execution_count": 52
        },
        {
          "output_type": "display_data",
          "data": {
            "text/plain": [
              "<Figure size 432x288 with 1 Axes>"
            ],
            "image/png": "[encoded data removed]"
          },
          "metadata": {
            "needs_background": "light"
          }
        }
      ]
    },
    {
      "cell_type": "code",
      "source": [
        "#Random Color"
      ],
      "metadata": {
        "id": "GHWEOdzTq71K"
      },
      "execution_count": 53,
      "outputs": []
    },
    {
      "cell_type": "code",
      "source": [],
      "metadata": {
        "id": "JvjFyIkxr0aP"
      },
      "execution_count": 53,
      "outputs": []
    },
    {
      "cell_type": "markdown",
      "source": [
        "#Random Color"
      ],
      "metadata": {
        "id": "JU2Ursour0rp"
      }
    },
    {
      "cell_type": "code",
      "source": [
        "z = np.random.randint(0,255,size=(10,10,3))"
      ],
      "metadata": {
        "id": "BdxpEHnRryvs"
      },
      "execution_count": 54,
      "outputs": []
    },
    {
      "cell_type": "markdown",
      "source": [
        "inserted a equation for random numbers and added their size to set up random color generator"
      ],
      "metadata": {
        "id": "7MKjNAfunLDf"
      }
    },
    {
      "cell_type": "code",
      "source": [
        "plt.imshow(z)"
      ],
      "metadata": {
        "id": "KzJqDc4-sJum",
        "colab": {
          "base_uri": "https://localhost:8080/",
          "height": 283
        },
        "outputId": "af7a4017-2518-4ee1-fd3f-1649ef42bfd8"
      },
      "execution_count": 55,
      "outputs": [
        {
          "output_type": "execute_result",
          "data": {
            "text/plain": [
              "<matplotlib.image.AxesImage at 0x7fab478b7cd0>"
            ]
          },
          "metadata": {},
          "execution_count": 55
        },
        {
          "output_type": "display_data",
          "data": {
            "text/plain": [
              "<Figure size 432x288 with 1 Axes>"
            ],
            "image/png": "[encoded data removed]"
          },
          "metadata": {
            "needs_background": "light"
          }
        }
      ]
    },
    {
      "cell_type": "markdown",
      "source": [
        "inserted image of colors on a graph"
      ],
      "metadata": {
        "id": "oED-p9MMncWn"
      }
    },
    {
      "cell_type": "code",
      "source": [
        "z = np.ones((10,10,3))\n",
        "\n",
        "z[:,:,0] = 0\n",
        "z[:,:,1] = 3\n",
        "z[:,:,2] = 0\n",
        "\n",
        "plt.imshow(z)"
      ],
      "metadata": {
        "id": "9amt4cf5sNCv",
        "colab": {
          "base_uri": "https://localhost:8080/",
          "height": 301
        },
        "outputId": "7763c00e-e613-4ece-8d2b-6061a7d9e8a6"
      },
      "execution_count": 56,
      "outputs": [
        {
          "output_type": "stream",
          "name": "stderr",
          "text": [
            "WARNING:matplotlib.image:Clipping input data to the valid range for imshow with RGB data ([0..1] for floats or [0..255] for integers).\n"
          ]
        },
        {
          "output_type": "execute_result",
          "data": {
            "text/plain": [
              "<matplotlib.image.AxesImage at 0x7fab4788e970>"
            ]
          },
          "metadata": {},
          "execution_count": 56
        },
        {
          "output_type": "display_data",
          "data": {
            "text/plain": [
              "<Figure size 432x288 with 1 Axes>"
            ],
            "image/png": "[encoded data removed]"
          },
          "metadata": {
            "needs_background": "light"
          }
        }
      ]
    },
    {
      "cell_type": "markdown",
      "source": [
        "inserted a graph equation so we can create random colors"
      ],
      "metadata": {
        "id": "hhvXFxuFnfdv"
      }
    },
    {
      "cell_type": "markdown",
      "source": [
        "use this equation to change the color of the blocks"
      ],
      "metadata": {
        "id": "RTTN3nPusu5K"
      }
    },
    {
      "cell_type": "code",
      "source": [
        "for i in range (10):\n",
        "\n",
        "  z1 = np.ones((10,10,3))\n",
        "  z1[:,:,0] = np.random.rand()\n",
        "  z1[:,:,1] = np.random.rand()\n",
        "  z1[:,:,2] = np.random.rand()\n",
        "\n",
        "  z2 = np.ones((10,10,3))\n",
        "  z2[:,:,0] = np.random.rand()\n",
        "  z2[:,:,1] = np.random.rand()\n",
        "  z2[:,:,2] = np.random.rand()\n",
        "\n",
        "z3 = np.hstack((z1,z2))\n",
        "\n",
        "plt.imshow(z3);\n",
        "plt.show()"
      ],
      "metadata": {
        "id": "cP23nbSIsSHU",
        "colab": {
          "base_uri": "https://localhost:8080/",
          "height": 215
        },
        "outputId": "2c991de4-a3d8-4c2d-8ef4-019e424f6d73"
      },
      "execution_count": 57,
      "outputs": [
        {
          "output_type": "display_data",
          "data": {
            "text/plain": [
              "<Figure size 432x288 with 1 Axes>"
            ],
            "image/png": "[encoded data removed]"
          },
          "metadata": {
            "needs_background": "light"
          }
        }
      ]
    },
    {
      "cell_type": "markdown",
      "source": [
        "used the equation to create two blocks of a random color on graph"
      ],
      "metadata": {
        "id": "qZeKyRW5nmQK"
      }
    },
    {
      "cell_type": "code",
      "source": [],
      "metadata": {
        "id": "h6HwvTKts8rz"
      },
      "execution_count": 57,
      "outputs": []
    }
  ]
}